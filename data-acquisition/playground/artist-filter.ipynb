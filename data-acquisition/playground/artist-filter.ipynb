{
 "cells": [
  {
   "cell_type": "code",
   "execution_count": 63,
   "id": "d654ac7b",
   "metadata": {},
   "outputs": [
    {
     "data": {
      "text/plain": [
       "{ title: \u001b[32m\"sza\"\u001b[39m, extras: \u001b[32m\"(featuring)[]{}\"\u001b[39m }"
      ]
     },
     "execution_count": 63,
     "metadata": {},
     "output_type": "execute_result"
    }
   ],
   "source": [
    "const splitSongTitle = (title: string) => {\n",
    "  const match = title.match(/^([^({\\[]+)([({\\[].*)?$/);\n",
    "\n",
    "  return {\n",
    "    title: match?.[1]?.trim() ?? title,\n",
    "    extras: match?.[2]?.trim() ?? null,\n",
    "  };\n",
    "};\n",
    "\n",
    "splitSongTitle(\"sza  (featuring)[]{}\")\n",
    "\n",
    "\n",
    "\n"
   ]
  },
  {
   "cell_type": "code",
   "execution_count": null,
   "id": "cae0d039",
   "metadata": {},
   "outputs": [],
   "source": []
  },
  {
   "cell_type": "code",
   "execution_count": null,
   "id": "71ec7eca",
   "metadata": {},
   "outputs": [],
   "source": []
  }
 ],
 "metadata": {
  "kernelspec": {
   "display_name": "Deno",
   "language": "typescript",
   "name": "deno"
  },
  "language_info": {
   "codemirror_mode": "typescript",
   "file_extension": ".ts",
   "mimetype": "text/x.typescript",
   "name": "typescript",
   "nbconvert_exporter": "script",
   "pygments_lexer": "typescript",
   "version": "5.8.3"
  }
 },
 "nbformat": 4,
 "nbformat_minor": 5
}
