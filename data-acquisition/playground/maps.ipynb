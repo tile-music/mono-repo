{
 "cells": [
  {
   "cell_type": "code",
   "execution_count": null,
   "id": "f6da2604",
   "metadata": {},
   "outputs": [
    {
     "name": "stdout",
     "output_type": "stream",
     "text": [
      "Map(1) { \"lala\" => { stuff: \"hi\", things: [] } }\n"
     ]
    },
    {
     "data": {
      "text/plain": [
       "{ stuff: \u001b[32m\"hi\"\u001b[39m, things: [ \u001b[32m\"test\"\u001b[39m ] }"
      ]
     },
     "execution_count": 28,
     "metadata": {},
     "output_type": "execute_result"
    }
   ],
   "source": [
    "\n"
   ]
  },
  {
   "cell_type": "code",
   "execution_count": null,
   "id": "cce71894",
   "metadata": {},
   "outputs": [],
   "source": []
  }
 ],
 "metadata": {
  "kernelspec": {
   "display_name": "Deno",
   "language": "typescript",
   "name": "deno"
  },
  "language_info": {
   "codemirror_mode": "typescript",
   "file_extension": ".ts",
   "mimetype": "text/x.typescript",
   "name": "typescript",
   "nbconvert_exporter": "script",
   "pygments_lexer": "typescript",
   "version": "5.8.3"
  }
 },
 "nbformat": 4,
 "nbformat_minor": 5
}
