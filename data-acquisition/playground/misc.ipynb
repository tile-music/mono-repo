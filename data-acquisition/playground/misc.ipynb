{
 "cells": [
  {
   "cell_type": "code",
   "execution_count": 63,
   "id": "d654ac7b",
   "metadata": {},
   "outputs": [
    {
     "data": {
      "text/plain": [
       "{ title: \u001b[32m\"sza\"\u001b[39m, extras: \u001b[32m\"(featuring)[]{}\"\u001b[39m }"
      ]
     },
     "execution_count": 63,
     "metadata": {},
     "output_type": "execute_result"
    }
   ],
   "source": [
    "const splitSongTitle = (title: string) => {\n",
    "  const match = title.match(/^([^({\\[]+)([({\\[].*)?$/);\n",
    "\n",
    "  return {\n",
    "    title: match?.[1]?.trim() ?? title,\n",
    "    extras: match?.[2]?.trim() ?? null,\n",
    "  };\n",
    "};\n",
    "\n",
    "splitSongTitle(\"sza  (featuring)[]{}\")\n",
    "\n",
    "\n",
    "\n"
   ]
  },
  {
   "cell_type": "code",
   "execution_count": null,
   "id": "a3d50da5",
   "metadata": {},
   "outputs": [
    {
     "name": "stdout",
     "output_type": "stream",
     "text": [
      "Map(1) { \"lala\" => { stuff: \"hi\", things: [] } }\n"
     ]
    },
    {
     "data": {
      "text/plain": [
       "{ stuff: \u001b[32m\"hi\"\u001b[39m, things: [ \u001b[32m\"test\"\u001b[39m ] }"
      ]
     },
     "execution_count": 1,
     "metadata": {},
     "output_type": "execute_result"
    },
    {
     "ename": "",
     "evalue": "",
     "output_type": "error",
     "traceback": [
      "\u001b[1;31mThe Kernel crashed while executing code in the current cell or a previous cell. \n",
      "\u001b[1;31mPlease review the code in the cell(s) to identify a possible cause of the failure. \n",
      "\u001b[1;31mClick <a href='https://aka.ms/vscodeJupyterKernelCrash'>here</a> for more info. \n",
      "\u001b[1;31mView Jupyter <a href='command:jupyter.viewOutput'>log</a> for further details."
     ]
    }
   ],
   "source": [
    "const map = new Map;\n",
    "\n",
    "const hello = map.set(\"lala\", {\n",
    "  stuff: \"hi\",\n",
    "  things: []\n",
    "});\n",
    "console.log(hello)\n",
    "const stuff = map.get(\"lala\");\n",
    "stuff.things.push(\"test\");\n",
    "map.get(\"lala\")"
   ]
  },
  {
   "cell_type": "code",
   "execution_count": null,
   "id": "cae0d039",
   "metadata": {},
   "outputs": [],
   "source": []
  },
  {
   "cell_type": "code",
   "execution_count": null,
   "id": "71ec7eca",
   "metadata": {},
   "outputs": [],
   "source": []
  }
 ],
 "metadata": {
  "kernelspec": {
   "display_name": "Deno",
   "language": "typescript",
   "name": "deno"
  },
  "language_info": {
   "codemirror_mode": "typescript",
   "file_extension": ".ts",
   "mimetype": "text/x.typescript",
   "name": "typescript",
   "nbconvert_exporter": "script",
   "pygments_lexer": "typescript",
   "version": "5.8.3"
  }
 },
 "nbformat": 4,
 "nbformat_minor": 5
}
